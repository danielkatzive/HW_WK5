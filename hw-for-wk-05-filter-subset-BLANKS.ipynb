{
  "cells": [
    {
      "cell_type": "markdown",
      "id": "bb333aa4",
      "metadata": {
        "id": "bb333aa4"
      },
      "source": [
        "# NYC traffic accidents 2019-2020  \n",
        "## Filter and Subset\n"
      ]
    },
    {
      "cell_type": "code",
      "execution_count": null,
      "id": "3a4e3c74",
      "metadata": {
        "id": "3a4e3c74"
      },
      "outputs": [],
      "source": [
        "## import necessary libraries\n"
      ]
    },
    {
      "cell_type": "code",
      "execution_count": null,
      "id": "506891bb",
      "metadata": {
        "id": "506891bb"
      },
      "outputs": [],
      "source": [
        "## read the dataset into notebook\n",
        "\n",
        "df = pd.read_csv(\"https://raw.githubusercontent.com/sandeepmj/datasets/main/nyc-accidents.csv\")"
      ]
    },
    {
      "cell_type": "code",
      "execution_count": null,
      "id": "d35b0402",
      "metadata": {
        "id": "d35b0402"
      },
      "outputs": [],
      "source": [
        "## show the data frame"
      ]
    },
    {
      "cell_type": "code",
      "execution_count": null,
      "id": "d20d8cde",
      "metadata": {
        "id": "d20d8cde"
      },
      "outputs": [],
      "source": [
        "## see the overall info about this dataset\n"
      ]
    },
    {
      "cell_type": "code",
      "execution_count": null,
      "id": "ada92369",
      "metadata": {
        "id": "ada92369"
      },
      "outputs": [],
      "source": [
        "## how many types of vehicles were the primary cause of the accidents\n"
      ]
    },
    {
      "cell_type": "code",
      "execution_count": null,
      "id": "d556522d",
      "metadata": {
        "id": "d556522d"
      },
      "outputs": [],
      "source": [
        "## which type of vehicle was primary vehicle involved in crashes?\n",
        "## SHOW ONLY THE TOP 7\n"
      ]
    },
    {
      "cell_type": "code",
      "execution_count": null,
      "id": "0cad6845",
      "metadata": {
        "id": "0cad6845"
      },
      "outputs": [],
      "source": [
        "## create a series of crash dates.\n"
      ]
    },
    {
      "cell_type": "code",
      "execution_count": null,
      "id": "f2b6b17a",
      "metadata": {
        "id": "f2b6b17a"
      },
      "outputs": [],
      "source": [
        "## Which borough had the most crashes?\n"
      ]
    },
    {
      "cell_type": "code",
      "execution_count": null,
      "id": "83dfc384",
      "metadata": {
        "id": "83dfc384"
      },
      "outputs": [],
      "source": [
        "## What were a FIVE unusual primary vehicles to get into a crash?\n"
      ]
    },
    {
      "cell_type": "code",
      "execution_count": null,
      "id": "8df45602",
      "metadata": {
        "id": "8df45602"
      },
      "outputs": [],
      "source": [
        "## create a subset of data for only Queens\n",
        "## place it in a dataframe called df_q\n"
      ]
    },
    {
      "cell_type": "code",
      "execution_count": null,
      "id": "f7eee32b",
      "metadata": {
        "id": "f7eee32b"
      },
      "outputs": [],
      "source": [
        "## How many people were killed in Queens in accidents?\n"
      ]
    },
    {
      "cell_type": "code",
      "execution_count": null,
      "id": "be6822f8",
      "metadata": {
        "id": "be6822f8"
      },
      "outputs": [],
      "source": [
        "## how many cyclists were killed in Queens?\n",
        "\n"
      ]
    },
    {
      "cell_type": "markdown",
      "id": "f0c2c583",
      "metadata": {
        "id": "f0c2c583"
      },
      "source": [
        "**Syntax for querying multi-word column names:**\n",
        "\n",
        "```dataframe.query('`column name` comparison_operator value')```\n",
        "\n",
        "Note the opening and closing tick marks ``` ` ```"
      ]
    },
    {
      "cell_type": "code",
      "execution_count": null,
      "id": "907f1f21",
      "metadata": {
        "id": "907f1f21"
      },
      "outputs": [],
      "source": [
        "## create a dataset for Manhattan AND TAXIS only\n",
        "\n"
      ]
    },
    {
      "cell_type": "code",
      "execution_count": null,
      "id": "32704f24",
      "metadata": {
        "id": "32704f24"
      },
      "outputs": [],
      "source": [
        "## What were the top 8 causes of accidents across all the boroughs?\n",
        "## by primary vehicle cause\n",
        "\n"
      ]
    },
    {
      "cell_type": "code",
      "execution_count": null,
      "id": "77e3122f",
      "metadata": {
        "id": "77e3122f"
      },
      "outputs": [],
      "source": [
        "## What were the top 8 causes of accidents across all the boroughs?\n",
        "## by secondary vehicle cause\n",
        "\n"
      ]
    },
    {
      "cell_type": "code",
      "execution_count": null,
      "id": "d524c89e",
      "metadata": {
        "id": "d524c89e"
      },
      "outputs": [],
      "source": [
        "## What were the 5 fewest causes for primary vehicles causing the accident\n"
      ]
    },
    {
      "cell_type": "code",
      "execution_count": null,
      "id": "f551ca6a",
      "metadata": {
        "id": "f551ca6a"
      },
      "outputs": [],
      "source": [
        "## How many unique values are there for primary reasons for accidents\n"
      ]
    },
    {
      "cell_type": "code",
      "execution_count": null,
      "id": "c67fbfac",
      "metadata": {
        "id": "c67fbfac"
      },
      "outputs": [],
      "source": [
        "## list ALL the causes as unique values (in other words, create a list of the causes)\n",
        "\n"
      ]
    },
    {
      "cell_type": "code",
      "execution_count": null,
      "id": "3f7ad5c2",
      "metadata": {
        "id": "3f7ad5c2"
      },
      "outputs": [],
      "source": []
    }
  ],
  "metadata": {
    "kernelspec": {
      "display_name": "Python 3 (ipykernel)",
      "language": "python",
      "name": "python3"
    },
    "language_info": {
      "codemirror_mode": {
        "name": "ipython",
        "version": 3
      },
      "file_extension": ".py",
      "mimetype": "text/x-python",
      "name": "python",
      "nbconvert_exporter": "python",
      "pygments_lexer": "ipython3",
      "version": "3.9.7"
    },
    "colab": {
      "provenance": []
    }
  },
  "nbformat": 4,
  "nbformat_minor": 5
}